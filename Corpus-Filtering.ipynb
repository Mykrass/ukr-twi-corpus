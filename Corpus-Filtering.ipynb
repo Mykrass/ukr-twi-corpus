{
 "cells": [
  {
   "cell_type": "code",
   "execution_count": 53,
   "metadata": {},
   "outputs": [],
   "source": [
    "import pandas as pd\n",
    "import csv\n",
    "import xml\n",
    "from lxml.etree import ParserError\n",
    "import os, path, sys\n",
    "import glob\n",
    "\n",
    "import re\n",
    "import matplotlib.dates\n",
    "import matplotlib\n",
    "import matplotlib.pyplot\n",
    "import datetime\n",
    "\n",
    "import string\n",
    "import pymorphy2"
   ]
  },
  {
   "cell_type": "markdown",
   "metadata": {},
   "source": [
    "Text Preprocessing"
   ]
  },
  {
   "cell_type": "code",
   "execution_count": 59,
   "metadata": {},
   "outputs": [],
   "source": [
    "df = pd.read_csv('users/df.csv', index_col=0, header=0,\n",
    "                 lineterminator='\\n')"
   ]
  },
  {
   "cell_type": "code",
   "execution_count": 60,
   "metadata": {},
   "outputs": [
    {
     "data": {
      "text/plain": [
       "1829451"
      ]
     },
     "execution_count": 60,
     "metadata": {},
     "output_type": "execute_result"
    }
   ],
   "source": [
    "len(df)"
   ]
  },
  {
   "cell_type": "markdown",
   "metadata": {},
   "source": [
    "Check for duplicates"
   ]
  },
  {
   "cell_type": "code",
   "execution_count": 62,
   "metadata": {},
   "outputs": [],
   "source": [
    "df.drop_duplicates(subset='text', inplace=True, keep='first')"
   ]
  },
  {
   "cell_type": "code",
   "execution_count": 63,
   "metadata": {},
   "outputs": [
    {
     "data": {
      "text/plain": [
       "1779653"
      ]
     },
     "execution_count": 63,
     "metadata": {},
     "output_type": "execute_result"
    }
   ],
   "source": [
    "len(df)"
   ]
  },
  {
   "cell_type": "markdown",
   "metadata": {},
   "source": [
    "Text Preprocessing"
   ]
  },
  {
   "cell_type": "code",
   "execution_count": 64,
   "metadata": {},
   "outputs": [],
   "source": [
    "from pynlple.processing.preprocessor import *\n",
    "\n",
    "stack = [\n",
    "                                        HtmlEntitiesUnescaper(),\n",
    "                                        BoldTagReplacer(),\n",
    "                                        URLReplacer(''),\n",
    "                                        HtmlTagReplacer(' '),\n",
    "                                        EmailReplacer(''),\n",
    "                                        PhoneNumberReplacer(''),\n",
    "                                        AtReferenceReplacer(''),\n",
    "                                        CommaReplacer(),\n",
    "                                        QuotesReplacer(),\n",
    "                                        DoubleQuotesReplacer(),\n",
    "                                        SoftHyphenReplacer(),\n",
    "                                        DashAndMinusReplacer(),\n",
    "                                        TripledotReplacer(),\n",
    "                                        ToLowerer(),\n",
    "                                        DigitsReplacer(True, '0'),\n",
    "                                        MultiPunctuationReplacer(),\n",
    "                                        MultiNewLineReplacer(),\n",
    "                                        MultiWhitespaceReplacer(),\n",
    "                                        WordTokenizer(),\n",
    "                                        Trimmer(),\n",
    "        ]"
   ]
  },
  {
   "cell_type": "code",
   "execution_count": 66,
   "metadata": {},
   "outputs": [
    {
     "name": "stdout",
     "output_type": "stream",
     "text": [
      "CPU times: user 5 µs, sys: 0 ns, total: 5 µs\n",
      "Wall time: 9.78 µs\n"
     ]
    }
   ],
   "source": [
    "%time\n",
    "t = StackingPreprocessor(stack)\n",
    "df['preproc_text_without_tags'] = df[\"text\"].apply(lambda x: t.preprocess(str(x))).values"
   ]
  },
  {
   "cell_type": "code",
   "execution_count": 67,
   "metadata": {},
   "outputs": [
    {
     "data": {
      "text/plain": [
       "1779653"
      ]
     },
     "execution_count": 67,
     "metadata": {},
     "output_type": "execute_result"
    }
   ],
   "source": [
    "len(df)"
   ]
  },
  {
   "cell_type": "markdown",
   "metadata": {},
   "source": [
    "Delete Empty Texts"
   ]
  },
  {
   "cell_type": "code",
   "execution_count": 68,
   "metadata": {},
   "outputs": [
    {
     "data": {
      "text/plain": [
       "1776913"
      ]
     },
     "execution_count": 68,
     "metadata": {},
     "output_type": "execute_result"
    }
   ],
   "source": [
    "df = df[df['preproc_text_without_tags']!= '']\n",
    "len(df)"
   ]
  },
  {
   "cell_type": "markdown",
   "metadata": {},
   "source": [
    "Language Detection"
   ]
  },
  {
   "cell_type": "code",
   "execution_count": 69,
   "metadata": {},
   "outputs": [],
   "source": [
    "from pyfasttext import FastText\n",
    "model = FastText('models/lid.176.bin')\n",
    "df['prep_ft'] = [model.predict_proba([i], 1)[0][0][0] for i in df['preproc_text_without_tags']]"
   ]
  },
  {
   "cell_type": "markdown",
   "metadata": {},
   "source": [
    "Check if text contains at least one  cyrrilic letter"
   ]
  },
  {
   "cell_type": "code",
   "execution_count": 73,
   "metadata": {},
   "outputs": [],
   "source": [
    "def has_cyrillic(text):\n",
    "    return bool(re.search('[\\u0400-\\u04FF]', text))"
   ]
  },
  {
   "cell_type": "code",
   "execution_count": 76,
   "metadata": {},
   "outputs": [],
   "source": [
    "df['has_cyr'] = [has_cyrillic(str(i)) for i in df['preproc_text_without_tags']]"
   ]
  },
  {
   "cell_type": "code",
   "execution_count": 77,
   "metadata": {},
   "outputs": [
    {
     "data": {
      "text/plain": [
       "1724989"
      ]
     },
     "execution_count": 77,
     "metadata": {},
     "output_type": "execute_result"
    }
   ],
   "source": [
    "df = df[df['has_cyr']==True]\n",
    "len(df)"
   ]
  },
  {
   "cell_type": "markdown",
   "metadata": {},
   "source": [
    "Delete messages with 'I'm at' (Swarm app texts)"
   ]
  },
  {
   "cell_type": "code",
   "execution_count": 80,
   "metadata": {},
   "outputs": [
    {
     "data": {
      "text/plain": [
       "1723371"
      ]
     },
     "execution_count": 80,
     "metadata": {},
     "output_type": "execute_result"
    }
   ],
   "source": [
    "df = df[~df['preproc_text_without_tags'].str.contains('i\\'m at')]\n",
    "len(df)"
   ]
  },
  {
   "cell_type": "markdown",
   "metadata": {},
   "source": [
    "delete row if it contains \"ы\" and ft is NOT uk"
   ]
  },
  {
   "cell_type": "code",
   "execution_count": 84,
   "metadata": {},
   "outputs": [],
   "source": [
    "df =  df[~((df['preproc_text_without_tags'].str.contains('ы')) & (df['fasttext_lang'] != 'uk'))]"
   ]
  },
  {
   "cell_type": "code",
   "execution_count": 88,
   "metadata": {},
   "outputs": [
    {
     "data": {
      "text/plain": [
       "1648655"
      ]
     },
     "execution_count": 88,
     "metadata": {},
     "output_type": "execute_result"
    }
   ],
   "source": [
    "len(df)"
   ]
  },
  {
   "cell_type": "markdown",
   "metadata": {},
   "source": [
    "Detected languages wich are closely similar to Ukrainian"
   ]
  },
  {
   "cell_type": "code",
   "execution_count": 98,
   "metadata": {},
   "outputs": [
    {
     "data": {
      "text/plain": [
       "uk     1454392\n",
       "ru      138978\n",
       "bg       10547\n",
       "be        7862\n",
       "sr        7603\n",
       "mk        4106\n",
       "pl        3627\n",
       "en        3365\n",
       "mn        1824\n",
       "ky        1612\n",
       "sah       1485\n",
       "es        1347\n",
       "kk        1271\n",
       "ar         751\n",
       "ce         719\n",
       "fr         709\n",
       "lv         625\n",
       "de         602\n",
       "fy         555\n",
       "mhr        482\n",
       "tt         467\n",
       "af         414\n",
       "lt         412\n",
       "eo         365\n",
       "vi         306\n",
       "tg         300\n",
       "cv         229\n",
       "mrj        204\n",
       "nl         188\n",
       "ba         183\n",
       "        ...   \n",
       "co           3\n",
       "br           3\n",
       "tl           3\n",
       "diq          3\n",
       "da           3\n",
       "sk           3\n",
       "ps           2\n",
       "sq           2\n",
       "fa           2\n",
       "yue          2\n",
       "bar          2\n",
       "bpy          2\n",
       "pfl          2\n",
       "kn           2\n",
       "nds          2\n",
       "vec          1\n",
       "id           1\n",
       "mt           1\n",
       "mzn          1\n",
       "sw           1\n",
       "is           1\n",
       "te           1\n",
       "km           1\n",
       "xmf          1\n",
       "pnb          1\n",
       "pam          1\n",
       "pa           1\n",
       "ast          1\n",
       "ms           1\n",
       "kw           1\n",
       "Name: prep_ft, Length: 140, dtype: int64"
      ]
     },
     "execution_count": 98,
     "metadata": {},
     "output_type": "execute_result"
    }
   ],
   "source": [
    "df['prep_ft'].value_counts()"
   ]
  },
  {
   "cell_type": "markdown",
   "metadata": {},
   "source": [
    "Delete Russian texts (you can delete any language or just leave only Ukrainian)"
   ]
  },
  {
   "cell_type": "code",
   "execution_count": 108,
   "metadata": {},
   "outputs": [
    {
     "data": {
      "text/plain": [
       "1509677"
      ]
     },
     "execution_count": 108,
     "metadata": {},
     "output_type": "execute_result"
    }
   ],
   "source": [
    "df = df[df['prep_ft']!='ru']\n",
    "len(df)"
   ]
  },
  {
   "cell_type": "code",
   "execution_count": 129,
   "metadata": {},
   "outputs": [],
   "source": [
    "df.to_csv('corpus.csv')"
   ]
  },
  {
   "cell_type": "code",
   "execution_count": null,
   "metadata": {},
   "outputs": [],
   "source": [
    "import gc\n",
    "\n",
    "gc.collect()"
   ]
  },
  {
   "cell_type": "code",
   "execution_count": 41,
   "metadata": {},
   "outputs": [],
   "source": [
    "df['text_length'] = df['preproc_text_without_tags'].apply(lambda x: len(x.split()))"
   ]
  },
  {
   "cell_type": "code",
   "execution_count": 19,
   "metadata": {},
   "outputs": [],
   "source": [
    "def avg_word_len(text):\n",
    "    text_length = len(text.split())\n",
    "    return sum([len(word) for word in text.split()]) / text_length"
   ]
  },
  {
   "cell_type": "code",
   "execution_count": 20,
   "metadata": {},
   "outputs": [
    {
     "data": {
      "text/plain": [
       "2.5"
      ]
     },
     "execution_count": 20,
     "metadata": {},
     "output_type": "execute_result"
    }
   ],
   "source": [
    "avg_word_len('I love')"
   ]
  },
  {
   "cell_type": "code",
   "execution_count": 45,
   "metadata": {},
   "outputs": [],
   "source": [
    "df['avg_word_length'] = df['preproc_text_without_tags'].apply(lambda x: avg_word_len(x))"
   ]
  },
  {
   "cell_type": "code",
   "execution_count": 38,
   "metadata": {},
   "outputs": [],
   "source": [
    "exclude = set(string.punctuation)\n",
    "exclude.update(['..'])\n",
    "\n",
    "def text_prepare(text):\n",
    "    text = ' '.join(ch for ch in text.split() if ch not in exclude)\n",
    "    #text = ' '.join(word for word in text.split() if word not in STOPWORDS)\n",
    "    #text = lemmatized(text)\n",
    "    return text"
   ]
  },
  {
   "cell_type": "code",
   "execution_count": 39,
   "metadata": {},
   "outputs": [],
   "source": [
    "df['preproc_text'] = df[\"preproc_text_without_tags\"].apply(lambda x: text_prepare(x)).values"
   ]
  }
 ],
 "metadata": {
  "kernelspec": {
   "display_name": "Python 3",
   "language": "python",
   "name": "python3"
  },
  "language_info": {
   "codemirror_mode": {
    "name": "ipython",
    "version": 3
   },
   "file_extension": ".py",
   "mimetype": "text/x-python",
   "name": "python",
   "nbconvert_exporter": "python",
   "pygments_lexer": "ipython3",
   "version": "3.6.0"
  }
 },
 "nbformat": 4,
 "nbformat_minor": 2
}
